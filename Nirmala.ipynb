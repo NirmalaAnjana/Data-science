{
 "cells": [
  {
   "cell_type": "code",
   "execution_count": 2,
   "id": "d8648a7f-2161-47a6-9865-373489947c95",
   "metadata": {},
   "outputs": [
    {
     "name": "stdout",
     "output_type": "stream",
     "text": [
      "Hello data science world!\n"
     ]
    }
   ],
   "source": [
    "print(\"Hello data science world!\")"
   ]
  },
  {
   "cell_type": "code",
   "execution_count": 3,
   "id": "b3879d9b-8905-43ae-9920-a018d764bc61",
   "metadata": {},
   "outputs": [
    {
     "name": "stdout",
     "output_type": "stream",
     "text": [
      "machine learning\n"
     ]
    }
   ],
   "source": [
    "print(\"machine learning\")"
   ]
  },
  {
   "cell_type": "code",
   "execution_count": 4,
   "id": "a4fa28b9-ae72-47be-ab73-130f724c054c",
   "metadata": {},
   "outputs": [
    {
     "name": "stdout",
     "output_type": "stream",
     "text": [
      "Nirmala\n"
     ]
    }
   ],
   "source": [
    "print(\"Nirmala\")"
   ]
  },
  {
   "cell_type": "code",
   "execution_count": null,
   "id": "df7e8fa0-ff5c-42ba-a7fa-edcab172f05a",
   "metadata": {},
   "outputs": [],
   "source": []
  }
 ],
 "metadata": {
  "kernelspec": {
   "display_name": "Python 3 (ipykernel)",
   "language": "python",
   "name": "python3"
  },
  "language_info": {
   "codemirror_mode": {
    "name": "ipython",
    "version": 3
   },
   "file_extension": ".py",
   "mimetype": "text/x-python",
   "name": "python",
   "nbconvert_exporter": "python",
   "pygments_lexer": "ipython3",
   "version": "3.11.7"
  }
 },
 "nbformat": 4,
 "nbformat_minor": 5
}
